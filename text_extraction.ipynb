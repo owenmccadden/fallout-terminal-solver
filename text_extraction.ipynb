{
 "cells": [
  {
   "cell_type": "markdown",
   "metadata": {},
   "source": [
    "result from https://www.imagetotext.io/\n",
    "\n",
    "ROBCO INDUSTRIES (TM) TERMLINK PROTOCOL ENTER PASSWORD NOW\n",
    "2 ATTEMPT(S) LEFT:☐☐\n",
    "0XF4F0 ??@-&#039;@&#039;&quot;#&#039; ([ 0xF5BC NG&lt;,CONSIST 0xF4FC &quot;-/#[{-CONF 0xF5C8 (@[_/$:.JESS 0xF508 IRM&lt;&quot;_ROAMIN 0xF5D4 ICA*|##-@-\\ 0XF514 G,&#039;]:-:+#- 0XF5E0 -X:&gt;HOUSIN 0XF520 ==FARMINGO 0XF5EC G*?:,(^(.1\\$ OXF52C&#039;.&gt;&gt;[%)$&#039;? 0xF5F8 = (STERILE/.= ==@&gt;GAINING 0xF604 #&#039;#]?] &lt;&lt;GETT 0xF544 ()-,:&quot;):-@H 0xF610 ING@_;*&gt;(TAC 0XF550 EARING)&quot;)*&quot;* 0XF61C TICS&quot;,:$=&#039;/ 0XF55C (/+--[$) 0xF628 **\n",
    "8XF538"
   ]
  },
  {
   "cell_type": "code",
   "execution_count": 1,
   "metadata": {},
   "outputs": [],
   "source": [
    "text = \"\"\"\n",
    "﻿ROBCO INDUSTRIES (TM) TERMLINK PROTOCOL ENTER PASSWORD NOW\n",
    "2 ATTEMPT(S) LEFT:☐☐\n",
    "0XF4F0 ??@-&#039;@&#039;&quot;#&#039; ([ 0xF5BC NG&lt;,CONSIST 0xF4FC &quot;-/#[{-CONF 0xF5C8 (@[_/$:.JESS 0xF508 IRM&lt;&quot;_ROAMIN 0xF5D4 ICA*|##-@-\\ 0XF514 G,&#039;]:-:+#- 0XF5E0 -X:&gt;HOUSIN 0XF520 ==FARMINGO 0XF5EC G*?:,(^(.1\\$ OXF52C&#039;.&gt;&gt;[%)$&#039;? 0xF5F8 = (STERILE/.= ==@&gt;GAINING 0xF604 #&#039;#]?] &lt;&lt;GETT 0xF544 ()-,:&quot;):-@H 0xF610 ING@_;*&gt;(TAC 0XF550 EARING)&quot;)*&quot;* 0XF61C TICS&quot;,:$=&#039;/ 0XF55C (/+--[$) 0xF628 **\n",
    "8XF538\n",
    "\"\"\""
   ]
  },
  {
   "cell_type": "code",
   "execution_count": 24,
   "metadata": {},
   "outputs": [],
   "source": [
    "filtered = ''.join([char for char in text if char.isalpha() or char == ' ']).split(\"xF\")"
   ]
  },
  {
   "cell_type": "code",
   "execution_count": 25,
   "metadata": {},
   "outputs": [
    {
     "data": {
      "text/plain": [
       "['ROBCO INDUSTRIES TM TERMLINK PROTOCOL ENTER PASSWORD NOW ATTEMPTS LEFTXFF quot  ',\n",
       " 'BC NGltCONSIST ',\n",
       " 'FC quotCONF ',\n",
       " 'C JESS ',\n",
       " ' IRMltquotROAMIN ',\n",
       " 'D ICA XF G XFE XgtHOUSIN XF FARMINGO XFEC G OXFCgtgt ',\n",
       " 'F  STERILE gtGAINING ',\n",
       " '  ltltGETT ',\n",
       " ' quotH ',\n",
       " ' INGgtTAC XF EARINGquotquot XFC TICSquot XFC  ',\n",
       " ' XF']"
      ]
     },
     "execution_count": 25,
     "metadata": {},
     "output_type": "execute_result"
    }
   ],
   "source": [
    "filtered"
   ]
  },
  {
   "cell_type": "code",
   "execution_count": null,
   "metadata": {},
   "outputs": [],
   "source": []
  }
 ],
 "metadata": {
  "kernelspec": {
   "display_name": "Python 3",
   "language": "python",
   "name": "python3"
  },
  "language_info": {
   "codemirror_mode": {
    "name": "ipython",
    "version": 3
   },
   "file_extension": ".py",
   "mimetype": "text/x-python",
   "name": "python",
   "nbconvert_exporter": "python",
   "pygments_lexer": "ipython3",
   "version": "3.8.5"
  }
 },
 "nbformat": 4,
 "nbformat_minor": 4
}
